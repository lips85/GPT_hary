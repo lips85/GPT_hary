{
 "cells": [
  {
   "cell_type": "code",
   "execution_count": 6,
   "metadata": {},
   "outputs": [
    {
     "name": "stdout",
     "output_type": "stream",
     "text": [
      "파이썬 코드는\n",
      "가독성 좋고 쉽다\n",
      "프로그래밍 즐겁다\n",
      "\n",
      "---\n",
      "이 시는 파이썬 프로그래밍 언어에 대한 긍정적인 평가를 담고 있습니다. 첫째 줄에서는 \"파이썬 코드는\"이라는 주제를 소개하고, 둘째 줄에서는 \"가독성 좋고 쉽다\"라는 특징을 강조하며, 셋째 줄에서는 \"프로그래밍 즐겁다\"라는 결론을 내리고 있습니다.\n",
      "\n",
      "첫째 줄은 5모음, 둘째 줄은 7모음, 셋째 줄은 다시 5모음으로 이루어져 있어 Haiku의 형식을 따르고 있습니다. 이 시는 파이썬 프로그래밍의 장점을 간결하고 명료하게 전달하며, 독자에게 프로그래밍을 즐기게 하는 메시지를 담고 있습니다."
     ]
    },
    {
     "data": {
      "text/plain": [
       "'이 시는 파이썬 프로그래밍 언어에 대한 긍정적인 평가를 담고 있습니다. 첫째 줄에서는 \"파이썬 코드는\"이라는 주제를 소개하고, 둘째 줄에서는 \"가독성 좋고 쉽다\"라는 특징을 강조하며, 셋째 줄에서는 \"프로그래밍 즐겁다\"라는 결론을 내리고 있습니다.\\n\\n첫째 줄은 5모음, 둘째 줄은 7모음, 셋째 줄은 다시 5모음으로 이루어져 있어 Haiku의 형식을 따르고 있습니다. 이 시는 파이썬 프로그래밍의 장점을 간결하고 명료하게 전달하며, 독자에게 프로그래밍을 즐기게 하는 메시지를 담고 있습니다.'"
      ]
     },
     "execution_count": 6,
     "metadata": {},
     "output_type": "execute_result"
    }
   ],
   "source": [
    "from langchain.chat_models.openai import ChatOpenAI\n",
    "from langchain.chat_models.ollama import ChatOllama\n",
    "from langchain.callbacks import StreamingStdOutCallbackHandler\n",
    "from langchain.schema import StrOutputParser\n",
    "from langchain.prompts import ChatPromptTemplate\n",
    "\n",
    "\n",
    "llm_openai = ChatOpenAI(\n",
    "    temperature=0.1,\n",
    "    model=\"gpt-3.5-turbo\",\n",
    "    streaming=True,\n",
    "    callbacks=[\n",
    "        StreamingStdOutCallbackHandler(),\n",
    "    ],\n",
    ")\n",
    "\n",
    "llm_ollama = ChatOllama(\n",
    "    temperature=0.1,\n",
    "    # model=\"stablelm2:latest\",\n",
    "    # model=\"llama3:latest\",\n",
    "    model=\"gemma2:latest\",\n",
    "    callbacks=[\n",
    "        StreamingStdOutCallbackHandler(),\n",
    "    ],\n",
    ")\n",
    "\n",
    "output_parser = StrOutputParser()\n",
    "\n",
    "prompt_write_Haikus = ChatPromptTemplate.from_messages(\n",
    "    [\n",
    "        (\n",
    "            \"system\",\n",
    "            \"당신은 Haiku의 전문가 입니다. Haiku는 5-7-5의 형식을 가지는 일본 시입니다. 당신은 한국인 입니다. 한국어를 사용합니다.\",\n",
    "        ),\n",
    "        (\n",
    "            \"human\",\n",
    "            \"프로그래밍 언어 {topic}에 대한 재미있는 Haiku를 하나만 작성해줘. 2개 작성하지 마. 작성한 이후에는 한줄을 띄워줘.\",\n",
    "        ),\n",
    "    ]\n",
    ")\n",
    "\n",
    "\n",
    "prompt_expliain_Haikus = ChatPromptTemplate.from_messages(\n",
    "    [\n",
    "        (\n",
    "            \"system\",\n",
    "            \"당신은 Haiku의 전문가 입니다. 당신은 Haiku에 대해 자세하게 설명하는것을 좋아합니다. Haiku는 5-7-5의 형식을 가지는 일본 시입니다. 당신은 한국인 입니다. 한국어를 사용합니다.\",\n",
    "        ),\n",
    "        (\n",
    "            \"human\",\n",
    "            \"{output}에 대한 전문가적인 해석을 해줘. 시에 대해 다시 읽지 말고, 시를 해석할때는 아주 자세하게 설명해줘.\",\n",
    "        ),\n",
    "    ]\n",
    ")\n",
    "chain_write = prompt_write_Haikus | llm_openai | output_parser\n",
    "\n",
    "chain_explain = prompt_expliain_Haikus | llm_openai | output_parser\n",
    "\n",
    "\n",
    "final_chain = {\"output\": chain_write} | chain_explain\n",
    "\n",
    "final_chain.invoke({\"topic\": input()})"
   ]
  }
 ],
 "metadata": {
  "kernelspec": {
   "display_name": "env",
   "language": "python",
   "name": "python3"
  },
  "language_info": {
   "codemirror_mode": {
    "name": "ipython",
    "version": 3
   },
   "file_extension": ".py",
   "mimetype": "text/x-python",
   "name": "python",
   "nbconvert_exporter": "python",
   "pygments_lexer": "ipython3",
   "version": "3.11.6"
  }
 },
 "nbformat": 4,
 "nbformat_minor": 2
}
