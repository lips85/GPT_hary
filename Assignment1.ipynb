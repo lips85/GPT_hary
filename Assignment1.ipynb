{
 "cells": [
  {
   "cell_type": "code",
   "execution_count": 3,
   "metadata": {},
   "outputs": [
    {
     "name": "stdout",
     "output_type": "stream",
     "text": [
      "코드 흐름 깔끔히\n",
      "파이썬, 간결함의 힘\n",
      "프로그래머의 즐기\n",
      "\n",
      "제시된 시는 5-7-5의 형식을 가지고 있어 한국어로 쓰인 하이쿠입니다. 하이쿠는 일본에서 유래된 시 형식으로, 자연을 주제로 짧고 간결하게 표현하는 것이 특징입니다. \n",
      "\n",
      "이 하이쿠는 파이썬 프로그래밍 언어를 주제로 하고 있습니다. \n",
      "\n",
      "* **\"코드 흐름 깔끔히\"**:  파이썬의 코드가 명확하고 논리적으로 흐르는 모습을 표현합니다. 파이썬은 가독성이 높은 언어로 알려져 있으며, 코드의 흐름이 깔끔하게 구성되어야 효율적이고 유지보수가 용이합니다. \n",
      "* **\"파이썬, 간결함의 힘\"**: 파이썬의 가장 큰 장점 중 하나는 간결함입니다. 다른 프로그래밍 언어에 비해 적은 코드로 동일한 기능을 구현할 수 있다는 점이 강조됩니다. 이는 개발 시간을 단축하고 코드를 더욱 명확하게 만들어줍니다.\n",
      "* **\"프로그래머의 즐기\"**: 파이썬의 간결함과 명확한 코드 흐름은 프로그래머들에게 즐거움을 가져다준다는 의미입니다. 개발 과정이 더욱 효율적이고 만족스러워지는 것을 표현합니다.\n",
      "\n",
      "전반적으로 이 하이쿠는 파이썬의 장점을 간결하고 아름다운 문장으로 표현하여 독자들에게 파이썬의 매력을 전달하고 있습니다. \n",
      "\n",
      "\n"
     ]
    },
    {
     "data": {
      "text/plain": [
       "'제시된 시는 5-7-5의 형식을 가지고 있어 한국어로 쓰인 하이쿠입니다. 하이쿠는 일본에서 유래된 시 형식으로, 자연을 주제로 짧고 간결하게 표현하는 것이 특징입니다. \\n\\n이 하이쿠는 파이썬 프로그래밍 언어를 주제로 하고 있습니다. \\n\\n* **\"코드 흐름 깔끔히\"**:  파이썬의 코드가 명확하고 논리적으로 흐르는 모습을 표현합니다. 파이썬은 가독성이 높은 언어로 알려져 있으며, 코드의 흐름이 깔끔하게 구성되어야 효율적이고 유지보수가 용이합니다. \\n* **\"파이썬, 간결함의 힘\"**: 파이썬의 가장 큰 장점 중 하나는 간결함입니다. 다른 프로그래밍 언어에 비해 적은 코드로 동일한 기능을 구현할 수 있다는 점이 강조됩니다. 이는 개발 시간을 단축하고 코드를 더욱 명확하게 만들어줍니다.\\n* **\"프로그래머의 즐기\"**: 파이썬의 간결함과 명확한 코드 흐름은 프로그래머들에게 즐거움을 가져다준다는 의미입니다. 개발 과정이 더욱 효율적이고 만족스러워지는 것을 표현합니다.\\n\\n전반적으로 이 하이쿠는 파이썬의 장점을 간결하고 아름다운 문장으로 표현하여 독자들에게 파이썬의 매력을 전달하고 있습니다. \\n\\n\\n'"
      ]
     },
     "execution_count": 3,
     "metadata": {},
     "output_type": "execute_result"
    }
   ],
   "source": [
    "from langchain.chat_models.openai import ChatOpenAI\n",
    "from langchain.chat_models.ollama import ChatOllama\n",
    "from langchain.callbacks import StreamingStdOutCallbackHandler\n",
    "from langchain.schema import StrOutputParser\n",
    "from langchain.prompts import ChatPromptTemplate\n",
    "\n",
    "\n",
    "llm_openai = ChatOpenAI(\n",
    "    temperature=0.1,\n",
    "    model=\"gpt-3.5-turbo\",\n",
    "    streaming=True,\n",
    "    callbacks=[\n",
    "        StreamingStdOutCallbackHandler(),\n",
    "    ],\n",
    ")\n",
    "\n",
    "llm_ollama = ChatOllama(\n",
    "    temperature=0.1,\n",
    "    # model=\"stablelm2:latest\",\n",
    "    # model=\"llama3:latest\",\n",
    "    model=\"gemma2:latest\",\n",
    "    callbacks=[\n",
    "        StreamingStdOutCallbackHandler(),\n",
    "    ],\n",
    ")\n",
    "\n",
    "output_parser = StrOutputParser()\n",
    "\n",
    "prompt_write_Haikus = ChatPromptTemplate.from_messages(\n",
    "    [\n",
    "        (\n",
    "            \"system\",\n",
    "            \"당신은 Haiku의 전문가 입니다. Haiku는 5-7-5의 형식을 가지는 일본 시입니다. 당신은 한국인 입니다. 한국어를 사용합니다.\",\n",
    "        ),\n",
    "        (\n",
    "            \"human\",\n",
    "            \"프로그래밍 언어 {topic}에 대한 재미있는 Haiku를 하나만 작성해줘. 2개 작성하지 마. 작성한 이후에는 한줄을 띄워줘.\",\n",
    "        ),\n",
    "    ]\n",
    ")\n",
    "\n",
    "\n",
    "prompt_expliain_Haikus = ChatPromptTemplate.from_messages(\n",
    "    [\n",
    "        (\n",
    "            \"system\",\n",
    "            \"당신은 Haiku의 전문가 입니다. 당신은 Haiku에 대해 자세하게 설명하는것을 좋아합니다. Haiku는 5-7-5의 형식을 가지는 일본 시입니다. 당신은 한국인 입니다. 한국어를 사용합니다.\",\n",
    "        ),\n",
    "        (\n",
    "            \"human\",\n",
    "            \"{output}에 대한 전문가적인 해석을 해줘. 시에 대해 다시 읽지 말고, 시를 해석할때는 아주 자세하게 설명해줘.\",\n",
    "        ),\n",
    "    ]\n",
    ")\n",
    "chain_write = prompt_write_Haikus | llm_ollama | output_parser\n",
    "\n",
    "chain_explain = prompt_expliain_Haikus | llm_ollama | output_parser\n",
    "\n",
    "\n",
    "final_chain = {\"output\": chain_write} | chain_explain\n",
    "\n",
    "final_chain.invoke({\"topic\": input()})"
   ]
  }
 ],
 "metadata": {
  "kernelspec": {
   "display_name": "env",
   "language": "python",
   "name": "python3"
  },
  "language_info": {
   "codemirror_mode": {
    "name": "ipython",
    "version": 3
   },
   "file_extension": ".py",
   "mimetype": "text/x-python",
   "name": "python",
   "nbconvert_exporter": "python",
   "pygments_lexer": "ipython3",
   "version": "3.11.6"
  }
 },
 "nbformat": 4,
 "nbformat_minor": 2
}
