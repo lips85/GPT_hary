{
 "cells": [
  {
   "cell_type": "markdown",
   "metadata": {},
   "source": [
    "# OPENAI ChatGPT로 실행한 결과"
   ]
  },
  {
   "cell_type": "code",
   "execution_count": 6,
   "metadata": {},
   "outputs": [
    {
     "name": "stdout",
     "output_type": "stream",
     "text": [
      "파이썬 코드는\n",
      "가독성 좋고 쉽다\n",
      "프로그래밍 즐겁다\n",
      "\n",
      "---\n",
      "이 시는 파이썬 프로그래밍 언어에 대한 긍정적인 평가를 담고 있습니다. 첫째 줄에서는 \"파이썬 코드는\"이라는 주제를 소개하고, 둘째 줄에서는 \"가독성 좋고 쉽다\"라는 특징을 강조하며, 셋째 줄에서는 \"프로그래밍 즐겁다\"라는 결론을 내리고 있습니다.\n",
      "\n",
      "첫째 줄은 5모음, 둘째 줄은 7모음, 셋째 줄은 다시 5모음으로 이루어져 있어 Haiku의 형식을 따르고 있습니다. 이 시는 파이썬 프로그래밍의 장점을 간결하고 명료하게 전달하며, 독자에게 프로그래밍을 즐기게 하는 메시지를 담고 있습니다."
     ]
    },
    {
     "data": {
      "text/plain": [
       "'이 시는 파이썬 프로그래밍 언어에 대한 긍정적인 평가를 담고 있습니다. 첫째 줄에서는 \"파이썬 코드는\"이라는 주제를 소개하고, 둘째 줄에서는 \"가독성 좋고 쉽다\"라는 특징을 강조하며, 셋째 줄에서는 \"프로그래밍 즐겁다\"라는 결론을 내리고 있습니다.\\n\\n첫째 줄은 5모음, 둘째 줄은 7모음, 셋째 줄은 다시 5모음으로 이루어져 있어 Haiku의 형식을 따르고 있습니다. 이 시는 파이썬 프로그래밍의 장점을 간결하고 명료하게 전달하며, 독자에게 프로그래밍을 즐기게 하는 메시지를 담고 있습니다.'"
      ]
     },
     "execution_count": 6,
     "metadata": {},
     "output_type": "execute_result"
    }
   ],
   "source": [
    "from langchain.chat_models.openai import ChatOpenAI\n",
    "from langchain.chat_models.ollama import ChatOllama\n",
    "from langchain.callbacks import StreamingStdOutCallbackHandler\n",
    "from langchain.schema import StrOutputParser\n",
    "from langchain.prompts import ChatPromptTemplate\n",
    "\n",
    "\n",
    "llm_openai = ChatOpenAI(\n",
    "    temperature=0.1,\n",
    "    model=\"gpt-3.5-turbo\",\n",
    "    streaming=True,\n",
    "    callbacks=[\n",
    "        StreamingStdOutCallbackHandler(),\n",
    "    ],\n",
    ")\n",
    "\n",
    "llm_ollama = ChatOllama(\n",
    "    temperature=0.1,\n",
    "    # model=\"stablelm2:latest\",\n",
    "    # model=\"llama3:latest\",\n",
    "    model=\"gemma2:latest\",\n",
    "    callbacks=[\n",
    "        StreamingStdOutCallbackHandler(),\n",
    "    ],\n",
    ")\n",
    "\n",
    "output_parser = StrOutputParser()\n",
    "\n",
    "prompt_write_Haikus = ChatPromptTemplate.from_messages(\n",
    "    [\n",
    "        (\n",
    "            \"system\",\n",
    "            \"당신은 Haiku의 전문가 입니다. Haiku는 5-7-5의 형식을 가지는 일본 시입니다. 당신은 한국인 입니다. 한국어를 사용합니다.\",\n",
    "        ),\n",
    "        (\n",
    "            \"human\",\n",
    "            \"프로그래밍 언어 {topic}에 대한 재미있는 Haiku를 하나만 작성해줘. 2개 작성하지 마. 작성한 이후에는 한줄을 띄워줘.\",\n",
    "        ),\n",
    "    ]\n",
    ")\n",
    "\n",
    "\n",
    "prompt_expliain_Haikus = ChatPromptTemplate.from_messages(\n",
    "    [\n",
    "        (\n",
    "            \"system\",\n",
    "            \"당신은 Haiku의 전문가 입니다. 당신은 Haiku에 대해 자세하게 설명하는것을 좋아합니다. Haiku는 5-7-5의 형식을 가지는 일본 시입니다. 당신은 한국인 입니다. 한국어를 사용합니다.\",\n",
    "        ),\n",
    "        (\n",
    "            \"human\",\n",
    "            \"{output}에 대한 전문가적인 해석을 해줘. 시에 대해 다시 읽지 말고, 시를 해석할때는 아주 자세하게 설명해줘.\",\n",
    "        ),\n",
    "    ]\n",
    ")\n",
    "chain_write = prompt_write_Haikus | llm_openai | output_parser\n",
    "\n",
    "chain_explain = prompt_expliain_Haikus | llm_openai | output_parser\n",
    "\n",
    "\n",
    "final_chain = {\"output\": chain_write} | chain_explain\n",
    "\n",
    "final_chain.invoke({\"topic\": input()})"
   ]
  },
  {
   "cell_type": "markdown",
   "metadata": {},
   "source": [
    "# ollama (gemma2 로 실행한 결과)"
   ]
  },
  {
   "cell_type": "code",
   "execution_count": 9,
   "metadata": {},
   "outputs": [
    {
     "name": "stdout",
     "output_type": "stream",
     "text": [
      "코드 줄로 엮어\n",
      "프로그램이 살아 움직이고\n",
      "세상을 바꾸네 \n",
      "\n",
      "\n",
      "제공하신 시는 5-7-5의 형식을 가지고 있어 하이쿠의 기본적인 구조를 따르고 있습니다. 하지만, 전통적인 하이쿠의 특징을 충분히 보여주지 못하고 현대적인 주제를 다루고 있어, 전통적인 해석보다는 시인의 의도를 파악하는 데 집중해야 합니다.\n",
      "\n",
      "**1. \"코드 줄로 엮어\"**: 이 구절은 컴퓨터 프로그래밍의 이미지를 떠올리게 합니다. \"코드 줄\"은 프로그램의 기본 단위인 코드를 의미하며, 이를 통해 프로그램이 만들어지는 과정을 표현하고 있습니다. \"엮어\"라는 동사는 코드들이 하나로 연결되어 복잡한 프로그램을 구성하는 과정을 나타냅니다.\n",
      "\n",
      "**2. \"프로그램이 살아 움직이고\"**: 이 구절은 프로그램이 단순한 코드 집합이 아니라 생명체처럼 활동하고 변화한다는 의미를 담고 있습니다. \"살아 움직이고\"라는 표현은 프로그램이 사용자의 명령에 따라 실행되고, 데이터를 처리하며, 결과를 출력하는 등의 활동을 통해 생명체처럼 활동한다는 것을 강조합니다.\n",
      "\n",
      "**3. \"세상을 바꾸네\"**: 이 구절은 프로그램이 사회와 개인의 삶에 미치는 영향을 강조합니다. \"세상을 바꾸네\"라는 표현은 프로그램이 정보를 전달하고, 새로운 기술을 개발하고, 생산성을 향상시키는 등 다양한 방식으로 세상을 변화시키는 힘을 지니고 있다는 것을 의미합니다.\n",
      "\n",
      "전반적으로, 이 시는 컴퓨터 프로그램의 힘과 영향력을 강조하며, 프로그램이 단순한 도구가 아니라 세상을 변화시키는 힘을 지닌 존재임을 시사합니다. 하지만, 시인이 프로그램의 긍정적인 측면만을 강조하는지, 아니면 그 힘이 가져올 수 있는 부정적인 측면도 고려하는지에 대한 명확한 답은 시 자체에서 찾기 어렵습니다. \n",
      "\n",
      "\n"
     ]
    },
    {
     "data": {
      "text/plain": [
       "'제공하신 시는 5-7-5의 형식을 가지고 있어 하이쿠의 기본적인 구조를 따르고 있습니다. 하지만, 전통적인 하이쿠의 특징을 충분히 보여주지 못하고 현대적인 주제를 다루고 있어, 전통적인 해석보다는 시인의 의도를 파악하는 데 집중해야 합니다.\\n\\n**1. \"코드 줄로 엮어\"**: 이 구절은 컴퓨터 프로그래밍의 이미지를 떠올리게 합니다. \"코드 줄\"은 프로그램의 기본 단위인 코드를 의미하며, 이를 통해 프로그램이 만들어지는 과정을 표현하고 있습니다. \"엮어\"라는 동사는 코드들이 하나로 연결되어 복잡한 프로그램을 구성하는 과정을 나타냅니다.\\n\\n**2. \"프로그램이 살아 움직이고\"**: 이 구절은 프로그램이 단순한 코드 집합이 아니라 생명체처럼 활동하고 변화한다는 의미를 담고 있습니다. \"살아 움직이고\"라는 표현은 프로그램이 사용자의 명령에 따라 실행되고, 데이터를 처리하며, 결과를 출력하는 등의 활동을 통해 생명체처럼 활동한다는 것을 강조합니다.\\n\\n**3. \"세상을 바꾸네\"**: 이 구절은 프로그램이 사회와 개인의 삶에 미치는 영향을 강조합니다. \"세상을 바꾸네\"라는 표현은 프로그램이 정보를 전달하고, 새로운 기술을 개발하고, 생산성을 향상시키는 등 다양한 방식으로 세상을 변화시키는 힘을 지니고 있다는 것을 의미합니다.\\n\\n전반적으로, 이 시는 컴퓨터 프로그램의 힘과 영향력을 강조하며, 프로그램이 단순한 도구가 아니라 세상을 변화시키는 힘을 지닌 존재임을 시사합니다. 하지만, 시인이 프로그램의 긍정적인 측면만을 강조하는지, 아니면 그 힘이 가져올 수 있는 부정적인 측면도 고려하는지에 대한 명확한 답은 시 자체에서 찾기 어렵습니다. \\n\\n\\n'"
      ]
     },
     "execution_count": 9,
     "metadata": {},
     "output_type": "execute_result"
    }
   ],
   "source": [
    "from langchain.chat_models.openai import ChatOpenAI\n",
    "from langchain.chat_models.ollama import ChatOllama\n",
    "from langchain.callbacks import StreamingStdOutCallbackHandler\n",
    "from langchain.schema import StrOutputParser\n",
    "from langchain.prompts import ChatPromptTemplate\n",
    "\n",
    "\n",
    "llm_openai = ChatOpenAI(\n",
    "    temperature=0.1,\n",
    "    model=\"gpt-3.5-turbo\",\n",
    "    streaming=True,\n",
    "    callbacks=[\n",
    "        StreamingStdOutCallbackHandler(),\n",
    "    ],\n",
    ")\n",
    "\n",
    "llm_ollama = ChatOllama(\n",
    "    temperature=0.1,\n",
    "    # model=\"stablelm2:latest\",\n",
    "    # model=\"llama3:latest\",\n",
    "    model=\"gemma2:latest\",\n",
    "    callbacks=[\n",
    "        StreamingStdOutCallbackHandler(),\n",
    "    ],\n",
    ")\n",
    "\n",
    "output_parser = StrOutputParser()\n",
    "\n",
    "prompt_write_Haikus = ChatPromptTemplate.from_messages(\n",
    "    [\n",
    "        (\n",
    "            \"system\",\n",
    "            \"당신은 Haiku의 전문가 입니다. Haiku는 5-7-5의 형식을 가지는 일본 시입니다. 당신은 한국인 입니다. 한국어를 사용합니다.\",\n",
    "        ),\n",
    "        (\n",
    "            \"human\",\n",
    "            \"프로그래밍 언어 {topic}에 대한 재미있는 Haiku를 하나만 작성해줘. 2개 작성하지 마. 작성한 이후에는 한줄을 띄워줘.\",\n",
    "        ),\n",
    "    ]\n",
    ")\n",
    "\n",
    "\n",
    "prompt_expliain_Haikus = ChatPromptTemplate.from_messages(\n",
    "    [\n",
    "        (\n",
    "            \"system\",\n",
    "            \"당신은 Haiku의 전문가 입니다. 당신은 Haiku에 대해 자세하게 설명하는것을 좋아합니다. Haiku는 5-7-5의 형식을 가지는 일본 시입니다. 당신은 한국인 입니다. 한국어를 사용합니다.\",\n",
    "        ),\n",
    "        (\n",
    "            \"human\",\n",
    "            \"{output}에 대한 전문가적인 해석을 해줘. 시에 대해 다시 읽지 말고, 시를 해석할때는 아주 자세하게 설명해줘.\",\n",
    "        ),\n",
    "    ]\n",
    ")\n",
    "chain_write = prompt_write_Haikus | llm_ollama | output_parser\n",
    "\n",
    "chain_explain = prompt_expliain_Haikus | llm_ollama | output_parser\n",
    "\n",
    "\n",
    "final_chain = {\"output\": chain_write} | chain_explain\n",
    "\n",
    "final_chain.invoke({\"topic\": input()})"
   ]
  }
 ],
 "metadata": {
  "kernelspec": {
   "display_name": "env",
   "language": "python",
   "name": "python3"
  },
  "language_info": {
   "codemirror_mode": {
    "name": "ipython",
    "version": 3
   },
   "file_extension": ".py",
   "mimetype": "text/x-python",
   "name": "python",
   "nbconvert_exporter": "python",
   "pygments_lexer": "ipython3",
   "version": "3.11.6"
  }
 },
 "nbformat": 4,
 "nbformat_minor": 2
}
