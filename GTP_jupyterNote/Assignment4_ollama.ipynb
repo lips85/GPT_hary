{
 "cells": [
  {
   "cell_type": "markdown",
   "metadata": {},
   "source": [
    "# Assignment4 RAG (ollama-gemma2)"
   ]
  },
  {
   "cell_type": "code",
   "execution_count": 1,
   "metadata": {},
   "outputs": [],
   "source": [
    "from langchain.chat_models.ollama import ChatOllama\n",
    "from langchain.chat_models.openai import ChatOpenAI\n",
    "from langchain.document_loaders.unstructured import UnstructuredFileLoader\n",
    "from langchain.text_splitter import RecursiveCharacterTextSplitter\n",
    "from langchain.embeddings.openai import OpenAIEmbeddings\n",
    "from langchain.embeddings.ollama import OllamaEmbeddings\n",
    "from langchain.embeddings.cache import CacheBackedEmbeddings\n",
    "from langchain.vectorstores.faiss import FAISS\n",
    "from langchain.storage import LocalFileStore\n",
    "from langchain.prompts import ChatPromptTemplate, MessagesPlaceholder\n",
    "from langchain.schema.runnable import RunnablePassthrough, RunnableLambda\n",
    "from langchain.memory import ConversationBufferMemory\n",
    "\n",
    "# LLM_model, models = [\"openai\", \"gpt-4o-mini-2024-07-18\"]\n",
    "LLM_model, models = [\"ollama\", \"llama3.1:latest\"]\n",
    "\n",
    "file_name = \"document.txt\"\n",
    "\n",
    "llm = (\n",
    "    ChatOllama(temperature=0.1, model=models)\n",
    "    if LLM_model == \"ollama\"\n",
    "    else ChatOpenAI(temperature=0.1, model=models)\n",
    ")\n",
    "\n",
    "loader = UnstructuredFileLoader(f\"../files/{file_name}\")\n",
    "cache_dir = LocalFileStore(f\"../.cache/embeddings/{LLM_model}/{models}/{file_name}\")\n",
    "\n",
    "splitter = RecursiveCharacterTextSplitter.from_tiktoken_encoder(\n",
    "    separators=[\"\\n\\n\", \".\", \"?\", \"!\"],\n",
    "    chunk_size=1000,\n",
    "    chunk_overlap=100,\n",
    ")\n",
    "\n",
    "docs = loader.load_and_split(text_splitter=splitter)\n",
    "embeddings = (\n",
    "    OllamaEmbeddings(model=models) if LLM_model == \"ollama\" else OpenAIEmbeddings()\n",
    ")\n",
    "\n",
    "cached_embeddings = CacheBackedEmbeddings.from_bytes_store(embeddings, cache_dir)\n",
    "\n",
    "vectorstore = FAISS.from_documents(docs, cached_embeddings)\n",
    "\n",
    "retriever = vectorstore.as_retriever()\n",
    "\n",
    "memory = ConversationBufferMemory(\n",
    "    llm=llm,\n",
    "    return_messages=True,\n",
    "    memory_key=\"history\",\n",
    ")\n",
    "\n",
    "\n",
    "def load_memory(_):\n",
    "    return memory.load_memory_variables({})[\"history\"]\n",
    "\n",
    "\n",
    "prompt = ChatPromptTemplate.from_messages(\n",
    "    [\n",
    "        (\n",
    "            \"system\",\n",
    "            \"\"\"\n",
    "            당신은 문서를 읽고 대답해주는 AI입니다. 주어지는 문서를 통해 답변을 주세요. \n",
    "            만약 정보가 문서에 없다면, '모르겠습니다'라고 답변해주세요.\n",
    "            한국어로 답변해주세요.\n",
    "            \n",
    "            {context}\n",
    "            \"\"\",\n",
    "        ),\n",
    "        MessagesPlaceholder(variable_name=\"history\"),\n",
    "        (\"human\", \"{question}\"),\n",
    "    ]\n",
    ")\n",
    "\n",
    "chain = (\n",
    "    {\n",
    "        \"context\": retriever,\n",
    "        \"question\": RunnablePassthrough(),\n",
    "        \"history\": RunnableLambda(load_memory),\n",
    "    }\n",
    "    | prompt\n",
    "    | llm\n",
    ")\n",
    "\n",
    "\n",
    "def invoke_chain(question):\n",
    "    result = chain.invoke(question).content\n",
    "    memory.save_context(\n",
    "        {\"input\": question},\n",
    "        {\"output\": result},\n",
    "    )\n",
    "    print(result)"
   ]
  },
  {
   "cell_type": "code",
   "execution_count": 2,
   "metadata": {},
   "outputs": [
    {
     "name": "stdout",
     "output_type": "stream",
     "text": [
      "The provided text excerpts from George Orwell's *Nineteen Eighty-Four* heavily imply that the Party, and O'Brien in particular, are manipulating reality and using torture to extract confessions and enforce their ideology. \n",
      "\n",
      "**Based on the text, we cannot definitively say whether Aaronson is guilty or not.** The Party's methods are designed to break individuals and force them to confess to whatever the Party deems necessary. \n",
      "\n",
      "Here's why we can't trust the information presented:\n",
      "\n",
      "* **O'Brien's words are manipulative:** He states that \"the object of persecution is persecution\" and \"the object of torture is torture.\" This suggests that the Party's goal is not to uncover truth but to instill fear and obedience.\n",
      "* **Reality is controlled:** O'Brien claims that \"Reality is inside the skull\" and that the Party \"makes the laws of Nature.\" This implies that the Party can control what people perceive as truth.\n",
      "* **Winston's state:** Winston is being tortured and broken down. He is unable to think clearly or resist O'Brien's influence.\n",
      "\n",
      "**Therefore, any information about Aaronson's guilt presented by O'Brien or the Party should be viewed with extreme skepticism.** It is likely a product of manipulation and coercion. \n",
      "\n",
      "\n",
      "It's important to remember that *Nineteen Eighty-Four* is a cautionary tale about the dangers of totalitarianism and the importance of critical thinking. \n",
      "\n"
     ]
    }
   ],
   "source": [
    "invoke_chain(\"Is Aaronson guilty?\")"
   ]
  },
  {
   "cell_type": "code",
   "execution_count": 3,
   "metadata": {},
   "outputs": [
    {
     "name": "stdout",
     "output_type": "stream",
     "text": [
      "The text you provided doesn't mention Winston writing anything in a table. \n",
      "\n",
      "\n",
      "Let me know if you have any other questions about *Nineteen Eighty-Four* or need further clarification on any part of the text! \n",
      "\n"
     ]
    }
   ],
   "source": [
    "invoke_chain(\"What message did he write in the table?\")"
   ]
  },
  {
   "cell_type": "code",
   "execution_count": 4,
   "metadata": {},
   "outputs": [
    {
     "name": "stdout",
     "output_type": "stream",
     "text": [
      "Julia is a young woman who becomes Winston's lover in *Nineteen Eighty-Four*. She is described as rebellious, independent, and passionate. Unlike Winston, she seems more focused on enjoying the present moment and indulging in physical pleasures as a way to resist the Party's control. \n",
      "\n",
      "Here are some key things to know about Julia:\n",
      "\n",
      "* **She is a member of the Outer Party:** This means she works a regular job and lives under the Party's constant surveillance, but she manages to find ways to rebel against the system.\n",
      "* **She is resourceful and cunning:** She has a network of contacts and knows how to obtain forbidden items, like chocolate and perfume.\n",
      "* **She is sexually liberated:** She enjoys physical intimacy and sees it as a way to assert her independence and challenge the Party's control over sexuality.\n",
      "* **She is initially more pragmatic than Winston:** While Winston is driven by a desire to understand the truth and fight against the Party, Julia is more focused on living a fulfilling life in the present.\n",
      "\n",
      "Julia's character represents a different kind of resistance to the Party. While Winston seeks to overthrow the system intellectually and politically, Julia rebels through personal acts of defiance and enjoyment.\n",
      "\n",
      "\n",
      "\n"
     ]
    }
   ],
   "source": [
    "invoke_chain(\"Who is Julia?\")"
   ]
  },
  {
   "cell_type": "code",
   "execution_count": 5,
   "metadata": {},
   "outputs": [
    {
     "name": "stdout",
     "output_type": "stream",
     "text": [
      "The first question you asked was:  \"Is Aaronson guilty?\" \n",
      "\n",
      "The second question you asked was: \"What message did he write in the table?\" \n",
      "\n",
      "\n",
      "Let me know if you have any other questions! \n",
      "\n",
      "The third question you asked was: \"Who is Julia?\" \n",
      "\n"
     ]
    }
   ],
   "source": [
    "invoke_chain(\"What was the first question I asked?\")\n",
    "\n",
    "invoke_chain(\"What was the second question I asked?\")\n",
    "\n",
    "invoke_chain(\"What was the third question I asked?\")"
   ]
  },
  {
   "cell_type": "code",
   "execution_count": 6,
   "metadata": {},
   "outputs": [
    {
     "data": {
      "text/plain": [
       "ConversationBufferMemory(chat_memory=ChatMessageHistory(messages=[HumanMessage(content='Is Aaronson guilty?'), AIMessage(content='The provided text excerpts from George Orwell\\'s *Nineteen Eighty-Four* heavily imply that the Party, and O\\'Brien in particular, are manipulating reality and using torture to extract confessions and enforce their ideology. \\n\\n**Based on the text, we cannot definitively say whether Aaronson is guilty or not.** The Party\\'s methods are designed to break individuals and force them to confess to whatever the Party deems necessary. \\n\\nHere\\'s why we can\\'t trust the information presented:\\n\\n* **O\\'Brien\\'s words are manipulative:** He states that \"the object of persecution is persecution\" and \"the object of torture is torture.\" This suggests that the Party\\'s goal is not to uncover truth but to instill fear and obedience.\\n* **Reality is controlled:** O\\'Brien claims that \"Reality is inside the skull\" and that the Party \"makes the laws of Nature.\" This implies that the Party can control what people perceive as truth.\\n* **Winston\\'s state:** Winston is being tortured and broken down. He is unable to think clearly or resist O\\'Brien\\'s influence.\\n\\n**Therefore, any information about Aaronson\\'s guilt presented by O\\'Brien or the Party should be viewed with extreme skepticism.** It is likely a product of manipulation and coercion. \\n\\n\\nIt\\'s important to remember that *Nineteen Eighty-Four* is a cautionary tale about the dangers of totalitarianism and the importance of critical thinking. \\n'), HumanMessage(content='What message did he write in the table?'), AIMessage(content=\"The text you provided doesn't mention Winston writing anything in a table. \\n\\n\\nLet me know if you have any other questions about *Nineteen Eighty-Four* or need further clarification on any part of the text! \\n\"), HumanMessage(content='Who is Julia?'), AIMessage(content=\"Julia is a young woman who becomes Winston's lover in *Nineteen Eighty-Four*. She is described as rebellious, independent, and passionate. Unlike Winston, she seems more focused on enjoying the present moment and indulging in physical pleasures as a way to resist the Party's control. \\n\\nHere are some key things to know about Julia:\\n\\n* **She is a member of the Outer Party:** This means she works a regular job and lives under the Party's constant surveillance, but she manages to find ways to rebel against the system.\\n* **She is resourceful and cunning:** She has a network of contacts and knows how to obtain forbidden items, like chocolate and perfume.\\n* **She is sexually liberated:** She enjoys physical intimacy and sees it as a way to assert her independence and challenge the Party's control over sexuality.\\n* **She is initially more pragmatic than Winston:** While Winston is driven by a desire to understand the truth and fight against the Party, Julia is more focused on living a fulfilling life in the present.\\n\\nJulia's character represents a different kind of resistance to the Party. While Winston seeks to overthrow the system intellectually and politically, Julia rebels through personal acts of defiance and enjoyment.\\n\\n\\n\"), HumanMessage(content='What was the first question I asked?'), AIMessage(content='The first question you asked was:  \"Is Aaronson guilty?\" \\n'), HumanMessage(content='What was the second question I asked?'), AIMessage(content='The second question you asked was: \"What message did he write in the table?\" \\n\\n\\nLet me know if you have any other questions! \\n'), HumanMessage(content='What was the third question I asked?'), AIMessage(content='The third question you asked was: \"Who is Julia?\" \\n')]), return_messages=True)"
      ]
     },
     "execution_count": 6,
     "metadata": {},
     "output_type": "execute_result"
    }
   ],
   "source": [
    "memory"
   ]
  }
 ],
 "metadata": {
  "kernelspec": {
   "display_name": "env",
   "language": "python",
   "name": "python3"
  },
  "language_info": {
   "codemirror_mode": {
    "name": "ipython",
    "version": 3
   },
   "file_extension": ".py",
   "mimetype": "text/x-python",
   "name": "python",
   "nbconvert_exporter": "python",
   "pygments_lexer": "ipython3",
   "version": "3.11.6"
  }
 },
 "nbformat": 4,
 "nbformat_minor": 2
}
