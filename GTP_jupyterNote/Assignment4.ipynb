{
 "cells": [
  {
   "cell_type": "markdown",
   "metadata": {},
   "source": [
    "# Assignment5 RAG (GPT MINI)"
   ]
  },
  {
   "cell_type": "code",
   "execution_count": 1,
   "metadata": {},
   "outputs": [],
   "source": [
    "from langchain.chat_models.ollama import ChatOllama\n",
    "from langchain.chat_models.openai import ChatOpenAI\n",
    "from langchain.document_loaders.unstructured import UnstructuredFileLoader\n",
    "from langchain.text_splitter import RecursiveCharacterTextSplitter\n",
    "from langchain.embeddings.openai import OpenAIEmbeddings\n",
    "from langchain.embeddings.ollama import OllamaEmbeddings\n",
    "from langchain.embeddings.cache import CacheBackedEmbeddings\n",
    "from langchain.vectorstores.faiss import FAISS\n",
    "from langchain.storage import LocalFileStore\n",
    "from langchain.prompts import ChatPromptTemplate, MessagesPlaceholder\n",
    "from langchain.schema.runnable import RunnablePassthrough, RunnableLambda\n",
    "from langchain.memory import ConversationBufferMemory\n",
    "\n",
    "\n",
    "# 시험 결과 embedding, llm 성능 모두 openai가 더 좋았음\n",
    "# 또한 ollama는 openai보다 더 느림\n",
    "# ollama는 embedding이 매우 잘못되어 있음... 이유를 모르겠음... (제대로 확인해 볼 문제... 내가 설정하는 과정이 문제일 수 있음)\n",
    "\n",
    "# LLM_model, models = [\"openai\", \"gpt-4o-mini-2024-07-18\"]\n",
    "LLM_model, models = [\"ollama\", \"gemma2:latest\"]\n",
    "\n",
    "file_name = \"document.txt\"\n",
    "\n",
    "llm = (\n",
    "    ChatOllama(temperature=0.1, model=models)\n",
    "    if LLM_model == \"ollama\"\n",
    "    else ChatOpenAI(temperature=0.1, model=models)\n",
    ")\n",
    "\n",
    "loader = UnstructuredFileLoader(f\"../files/{file_name}\")\n",
    "cache_dir = LocalFileStore(f\"../.cache/embeddings/{LLM_model}/{models}/{file_name}\")\n",
    "\n",
    "splitter = RecursiveCharacterTextSplitter.from_tiktoken_encoder(\n",
    "    separators=[\"\\n\\n\", \".\", \"?\", \"!\"],\n",
    "    chunk_size=1000,\n",
    "    chunk_overlap=100,\n",
    ")\n",
    "\n",
    "docs = loader.load_and_split(text_splitter=splitter)\n",
    "embeddings = (\n",
    "    OllamaEmbeddings(model=models) if LLM_model == \"ollama\" else OpenAIEmbeddings()\n",
    ")\n",
    "\n",
    "cached_embeddings = CacheBackedEmbeddings.from_bytes_store(embeddings, cache_dir)\n",
    "\n",
    "vectorstore = FAISS.from_documents(docs, cached_embeddings)\n",
    "\n",
    "retriever = vectorstore.as_retriever()\n",
    "\n",
    "memory = ConversationBufferMemory(\n",
    "    llm=llm,\n",
    "    return_messages=True,\n",
    "    memory_key=\"history\",\n",
    ")\n",
    "\n",
    "\n",
    "def load_memory(_):\n",
    "    return memory.load_memory_variables({})[\"history\"]\n",
    "\n",
    "\n",
    "prompt = ChatPromptTemplate.from_messages(\n",
    "    [\n",
    "        (\n",
    "            \"system\",\n",
    "            \"\"\"\n",
    "            You are an AI that reads documents for you. Please answer based on the document given below. \n",
    "            If the information is not in the document, answer the question with “The required information is not in the document.” Never make up answers. \\n\\n{context}\n",
    "            \"\"\",\n",
    "        ),\n",
    "        MessagesPlaceholder(variable_name=\"history\"),\n",
    "        (\"human\", \"{question}\"),\n",
    "    ]\n",
    ")\n",
    "\n",
    "chain = (\n",
    "    {\n",
    "        \"context\": retriever,\n",
    "        \"question\": RunnablePassthrough(),\n",
    "        \"history\": RunnableLambda(load_memory),\n",
    "    }\n",
    "    | prompt\n",
    "    | llm\n",
    ")\n",
    "\n",
    "\n",
    "def invoke_chain(question):\n",
    "    result = chain.invoke(question).content\n",
    "    memory.save_context(\n",
    "        {\"input\": question},\n",
    "        {\"output\": result},\n",
    "    )\n",
    "    print(result)"
   ]
  },
  {
   "cell_type": "code",
   "execution_count": 3,
   "metadata": {},
   "outputs": [
    {
     "name": "stdout",
     "output_type": "stream",
     "text": [
      "You're absolutely right to be skeptical!  The text makes it very clear that in this world, truth is malleable and power dictates reality. \n",
      "\n",
      "**We cannot know if Aaronson is guilty based on the information provided.** The Party's methods rely on manipulation, torture, and the rewriting of history.  Any \"evidence\" against Aaronson is likely fabricated or coerced. \n",
      "\n",
      "It's important to remember that in *Nineteen Eighty-Four*, the Party's goal is to control its citizens through fear and manipulation.  They use accusations and \"evidence\" to create a world where people are constantly suspicious of each other and afraid to speak out. \n",
      "\n"
     ]
    }
   ],
   "source": [
    "invoke_chain(\"Is Aaronson guilty?\")"
   ]
  },
  {
   "cell_type": "code",
   "execution_count": 4,
   "metadata": {},
   "outputs": [
    {
     "name": "stdout",
     "output_type": "stream",
     "text": [
      "The text you provided doesn't mention what message Winston wrote in the table.  \n",
      "\n",
      "\n",
      "Let me know if you have any other questions about *Nineteen Eighty-Four* or need help understanding other parts of the story! \n",
      "\n"
     ]
    }
   ],
   "source": [
    "invoke_chain(\"What message did he write in the table?\")"
   ]
  },
  {
   "cell_type": "code",
   "execution_count": 5,
   "metadata": {},
   "outputs": [
    {
     "name": "stdout",
     "output_type": "stream",
     "text": [
      "Julia is a young woman who Winston falls in love with during his rebellion against the Party in *Nineteen Eighty-Four*. She is described as being rebellious, independent, and passionate. Unlike Winston, Julia is more focused on enjoying the present moment and finding pleasure in small acts of defiance against the Party. \n",
      "\n",
      "Here are some key things to know about Julia:\n",
      "\n",
      "* **She is a member of the Junior Anti-Sex League:** This is ironic because she is actually very sexually liberated and enjoys physical intimacy with Winston.\n",
      "* **She is resourceful and practical:** She helps Winston hide their relationship and find ways to express their rebellion.\n",
      "* **She is more cynical than Winston:** While Winston believes in a larger revolution, Julia is more focused on personal freedom and happiness.\n",
      "* **She is captured and tortured by the Party:** This ultimately leads to her breaking and betraying Winston.\n",
      "\n",
      "\n",
      "Julia represents a different kind of resistance to the Party. While Winston seeks to overthrow the system intellectually and politically, Julia rebels through her personal choices and actions. \n",
      "\n"
     ]
    }
   ],
   "source": [
    "invoke_chain(\"Who is Julia?\")"
   ]
  },
  {
   "cell_type": "code",
   "execution_count": 6,
   "metadata": {},
   "outputs": [
    {
     "name": "stdout",
     "output_type": "stream",
     "text": [
      "The first question you asked was:  \"Is Aaronson guilty?\" \n",
      "\n",
      "\n",
      "Let me know if you have any other questions about *Nineteen Eighty-Four* or anything else!\n",
      "The second question you asked was: \"What message did he write in the table?\" \n",
      "\n",
      "The third question you asked was: \"Who is Julia?\" \n",
      "\n"
     ]
    }
   ],
   "source": [
    "invoke_chain(\"What was the first question I asked?\")\n",
    "\n",
    "invoke_chain(\"What was the second question I asked?\")\n",
    "\n",
    "invoke_chain(\"What was the third question I asked?\")"
   ]
  },
  {
   "cell_type": "code",
   "execution_count": 7,
   "metadata": {},
   "outputs": [
    {
     "data": {
      "text/plain": [
       "ConversationBufferMemory(chat_memory=ChatMessageHistory(messages=[HumanMessage(content='Is Aaronson guilty?'), AIMessage(content='The provided text excerpts from George Orwell\\'s *Nineteen Eighty-Four* heavily imply that the Party, led by O\\'Brien, uses torture and manipulation to extract confessions and create a reality where truth is irrelevant. \\n\\n**Therefore, based on the text, we cannot determine if Aaronson is actually guilty.** The Party\\'s methods suggest that any accusation, no matter how baseless, can be used to control and punish individuals. \\n\\nHere\\'s why we can\\'t trust the information presented:\\n\\n* **O\\'Brien\\'s words:** He states that the Party seeks power for its own sake and that the object of power is power. This suggests that justice and truth are secondary to maintaining control.\\n* **Torture:** The text describes Winston being tortured by O\\'Brien. This implies that any confession extracted under duress is unreliable.\\n* **Control of reality:** O\\'Brien claims that \"Reality is inside the skull\" and that the Party controls reality by controlling people\\'s minds. This means that the Party can create any narrative it wants, regardless of truth.\\n\\n\\nIn conclusion, the text strongly suggests that Aaronson\\'s guilt is a fabrication used by the Party for its own purposes. \\n'), HumanMessage(content='Is Aaronson guilty?'), AIMessage(content='You\\'re absolutely right to be skeptical!  The text makes it very clear that in this world, truth is malleable and power dictates reality. \\n\\n**We cannot know if Aaronson is guilty based on the information provided.** The Party\\'s methods rely on manipulation, torture, and the rewriting of history.  Any \"evidence\" against Aaronson is likely fabricated or coerced. \\n\\nIt\\'s important to remember that in *Nineteen Eighty-Four*, the Party\\'s goal is to control its citizens through fear and manipulation.  They use accusations and \"evidence\" to create a world where people are constantly suspicious of each other and afraid to speak out. \\n'), HumanMessage(content='What message did he write in the table?'), AIMessage(content=\"The text you provided doesn't mention what message Winston wrote in the table.  \\n\\n\\nLet me know if you have any other questions about *Nineteen Eighty-Four* or need help understanding other parts of the story! \\n\"), HumanMessage(content='Who is Julia?'), AIMessage(content='Julia is a young woman who Winston falls in love with during his rebellion against the Party in *Nineteen Eighty-Four*. She is described as being rebellious, independent, and passionate. Unlike Winston, Julia is more focused on enjoying the present moment and finding pleasure in small acts of defiance against the Party. \\n\\nHere are some key things to know about Julia:\\n\\n* **She is a member of the Junior Anti-Sex League:** This is ironic because she is actually very sexually liberated and enjoys physical intimacy with Winston.\\n* **She is resourceful and practical:** She helps Winston hide their relationship and find ways to express their rebellion.\\n* **She is more cynical than Winston:** While Winston believes in a larger revolution, Julia is more focused on personal freedom and happiness.\\n* **She is captured and tortured by the Party:** This ultimately leads to her breaking and betraying Winston.\\n\\n\\nJulia represents a different kind of resistance to the Party. While Winston seeks to overthrow the system intellectually and politically, Julia rebels through her personal choices and actions. \\n'), HumanMessage(content='What was the first question I asked?'), AIMessage(content='The first question you asked was:  \"Is Aaronson guilty?\" \\n\\n\\nLet me know if you have any other questions about *Nineteen Eighty-Four* or anything else!'), HumanMessage(content='What was the second question I asked?'), AIMessage(content='The second question you asked was: \"What message did he write in the table?\" \\n'), HumanMessage(content='What was the third question I asked?'), AIMessage(content='The third question you asked was: \"Who is Julia?\" \\n')]), return_messages=True)"
      ]
     },
     "execution_count": 7,
     "metadata": {},
     "output_type": "execute_result"
    }
   ],
   "source": [
    "memory"
   ]
  }
 ],
 "metadata": {
  "kernelspec": {
   "display_name": "env",
   "language": "python",
   "name": "python3"
  },
  "language_info": {
   "codemirror_mode": {
    "name": "ipython",
    "version": 3
   },
   "file_extension": ".py",
   "mimetype": "text/x-python",
   "name": "python",
   "nbconvert_exporter": "python",
   "pygments_lexer": "ipython3",
   "version": "3.11.6"
  }
 },
 "nbformat": 4,
 "nbformat_minor": 2
}
